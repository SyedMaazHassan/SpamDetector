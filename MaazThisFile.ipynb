{
 "cells": [
  {
   "cell_type": "code",
   "execution_count": 144,
   "metadata": {},
   "outputs": [],
   "source": [
    "import numpy as np\n",
    "import pandas as pd\n",
    "import sklearn\n",
    "from sklearn.feature_extraction import text  \n",
    "from sklearn.model_selection import train_test_split\n",
    "from sklearn.naive_bayes import MultinomialNB\n",
    "from sklearn.metrics import confusion_matrix\n",
    "from sklearn.model_selection import cross_val_predict\n",
    "\n",
    "\n",
    "import sqlite3\n",
    "cnx = sqlite3.connect('db.sqlite3')\n",
    "\n",
    "def is_spam(EmailText):\n",
    "   \n",
    "    dataframe = pd.read_sql_query(\"SELECT * FROM application_data_set\",cnx)\n",
    "    df = dataframe.copy()\n",
    "    \n",
    "    X = df['EmailText']\n",
    "    Y = df['Label']\n",
    "    X_train,X_test,Y_train,Y_test= train_test_split(X,Y, test_size=0.2, random_state=42)\n",
    "\n",
    "\n",
    "    vectorizer = text.CountVectorizer(stop_words=\"english\")\n",
    "    counts = vectorizer.fit_transform(X_train.values)\n",
    "    spam_nb = MultinomialNB()\n",
    "    spam_nb.fit(counts,Y_train.values)\n",
    "    \n",
    "    counts_test = vectorizer.transform(X_test.values)\n",
    "    y_test_pred = predict_test_vect = spam_nb.predict(counts_test)\n",
    "    \n",
    "    cm = confusion_matrix(Y_test, y_test_pred) \n",
    "    print(Y_test.shape)\n",
    "    print( len(y_test_pred))\n",
    "    print(cm)\n",
    "\n",
    "    test_vect = vectorizer.transform(np.array([EmailText]))\n",
    "    predict_test_vect = spam_nb.predict(test_vect)\n",
    "    new_row = {'Label':predict_test_vect[0],'EmailText':EmailText,'id' :df.shape[0]+1}\n",
    "    dataframe = dataframe.append(new_row,ignore_index=True)\n",
    "    dataframe.to_sql(name='application_data_set',con=cnx,if_exists = 'replace',index=False)\n",
    "    \n",
    "    return predict_test_vect[0] == 'spam'\n"
   ]
  },
  {
   "cell_type": "code",
   "execution_count": 145,
   "metadata": {},
   "outputs": [
    {
     "name": "stdout",
     "output_type": "stream",
     "text": [
      "(1132,)\n",
      "1132\n",
      "[[956   6]\n",
      " [ 15 155]]\n",
      "True\n"
     ]
    }
   ],
   "source": [
    "print(is_spam(\"This is to inform you on the release of the EL-GORDO SWEEPSTAKE LOTTERY PROGRAM held on the 29th OF APRIL 2005. Your name is attached to ticket number 025-11-464-992-750 with serial number 2113-05 drew the lucky numbers 13-15-16-21-34-36 which consequently won the lottery in the 3rd category.\"))"
   ]
  },
  {
   "cell_type": "code",
   "execution_count": 125,
   "metadata": {},
   "outputs": [],
   "source": [
    "\n",
    "df = pd.read_sql_query(\"SELECT * FROM application_data_set\",cnx)\n",
    "train_set, test_set = train_test_split(df, test_size=0.2, random_state=42)\n",
    "X_train = train_set['EmailText']\n",
    "Y_train = train_set['Label']\n",
    "X_test = test_set['EmailText']\n",
    "Y_test = test_set['Label']\n",
    "\n",
    "vectorizer = text.CountVectorizer(stop_words=\"english\")\n",
    "counts = vectorizer.fit_transform(X_train.values)\n",
    "spam_nb = MultinomialNB()\n",
    "spam_nb.fit(counts,Y_train.values)\n",
    "\n",
    "\n",
    "labels = ['ham', 'spam']    "
   ]
  },
  {
   "cell_type": "code",
   "execution_count": null,
   "metadata": {},
   "outputs": [],
   "source": []
  }
 ],
 "metadata": {
  "kernelspec": {
   "display_name": "Python 3",
   "language": "python",
   "name": "python3"
  },
  "language_info": {
   "codemirror_mode": {
    "name": "ipython",
    "version": 3
   },
   "file_extension": ".py",
   "mimetype": "text/x-python",
   "name": "python",
   "nbconvert_exporter": "python",
   "pygments_lexer": "ipython3",
   "version": "3.6.9"
  }
 },
 "nbformat": 4,
 "nbformat_minor": 4
}
