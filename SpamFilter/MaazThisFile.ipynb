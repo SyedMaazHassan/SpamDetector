{
 "cells": [
  {
   "cell_type": "code",
   "execution_count": 168,
   "metadata": {},
   "outputs": [],
   "source": [
    "import numpy as np\n",
    "import pandas as pd\n",
    "import sklearn\n",
    "from sklearn.feature_extraction import text  \n",
    "from sklearn.model_selection import train_test_split\n",
    "from sklearn.naive_bayes import MultinomialNB\n",
    "from sklearn.metrics import confusion_matrix\n",
    "from sklearn.model_selection import cross_val_predict\n",
    "\n",
    "\n",
    "import sqlite3\n",
    "cnx = sqlite3.connect('db.sqlite3')\n",
    "\n",
    "def is_spam(EmailText):\n",
    "   \n",
    "    df = pd.read_sql_query(\"SELECT * FROM application_data_set\",cnx)\n",
    "    \n",
    "    X = df['EmailText']\n",
    "    Y = df['Label']\n",
    "    X_train,X_test,Y_train,Y_test= train_test_split(X,Y, test_size=0.2, random_state=42)\n",
    "        \n",
    "    \n",
    "    vectorizer = text.CountVectorizer(stop_words=\"english\")\n",
    "    counts = vectorizer.fit_transform(X_train.values)\n",
    "    spam_nb = MultinomialNB()\n",
    "    spam_nb.fit(counts,Y_train.values)\n",
    "    \n",
    "    labels = ['ham','spam']\n",
    "    y_train_pred = cross_val_predict(spam_nb, counts, Y_train.values, cv=3)    \n",
    "    cm = confusion_matrix(Y_train, y_train_pred,labels) \n",
    "    print(cm) \n",
    "    \n",
    "    test_vect = vectorizer.transform(np.array([EmailText]))\n",
    "    predict_test_vect = spam_nb.predict(test_vect)\n",
    "    new_row = {'Label':predict_test_vect[0],'EmailText':EmailText,'id' :df.shape[0]+1}\n",
    "    df = df.append(new_row,ignore_index=True)\n",
    "    df.to_sql(name='application_data_set',con=cnx,if_exists = 'replace',index=False)\n",
    "    \n",
    "    return predict_test_vect[0] == 'spam'\n"
   ]
  },
  {
   "cell_type": "code",
   "execution_count": 169,
   "metadata": {},
   "outputs": [
    {
     "name": "stderr",
     "output_type": "stream",
     "text": [
      "/home/saad/.local/lib/python3.6/site-packages/sklearn/utils/validation.py:71: FutureWarning: Pass labels=['ham', 'spam'] as keyword args. From version 0.25 passing these as positional arguments will result in an error\n",
      "  FutureWarning)\n"
     ]
    },
    {
     "name": "stdout",
     "output_type": "stream",
     "text": [
      "[[3815   55]\n",
      " [  35  635]]\n",
      "True\n"
     ]
    }
   ],
   "source": [
    "print(is_spam(\"This is to inform you on the release of the EL-GORDO SWEEPSTAKE LOTTERY PROGRAM held on the 29th OF APRIL 2005. Your name is attached to ticket number 025-11-464-992-750 with serial number 2113-05 drew the lucky numbers 13-15-16-21-34-36 which consequently won the lottery in the 3rd category.\"))"
   ]
  },
  {
   "cell_type": "code",
   "execution_count": 172,
   "metadata": {},
   "outputs": [],
   "source": [
    "\n",
    "def tis_spam(EmailText):\n",
    "   \n",
    "    df = pd.read_sql_query(\"SELECT * FROM application_data_set\",cnx)\n",
    "    \n",
    "    X = df['EmailText']\n",
    "    Y = df['Label']\n",
    "        \n",
    "    \n",
    "    vectorizer = text.CountVectorizer(stop_words=\"english\")\n",
    "    counts = vectorizer.fit_transform(X.values)\n",
    "    spam_nb = MultinomialNB()\n",
    "    spam_nb.fit(counts,Y.values)\n",
    "    \n",
    "    labels = ['ham','spam']\n",
    "    y_pred = cross_val_predict(spam_nb, counts, Y.values, cv=3)    \n",
    "    cm = confusion_matrix(Y, y_pred,labels) \n",
    "    print(cm) \n",
    "    \n",
    "    test_vect = vectorizer.transform(np.array([EmailText]))\n",
    "    predict_test_vect = spam_nb.predict(test_vect)\n",
    "    new_row = {'Label':predict_test_vect[0],'EmailText':EmailText,'id' :df.shape[0]+1}\n",
    "    df = df.append(new_row,ignore_index=True)\n",
    "    df.to_sql(name='application_data_set',con=cnx,if_exists = 'replace',index=False)\n",
    "    \n",
    "    return predict_test_vect[0] == 'spam'\n"
   ]
  },
  {
   "cell_type": "code",
   "execution_count": 173,
   "metadata": {},
   "outputs": [
    {
     "name": "stderr",
     "output_type": "stream",
     "text": [
      "/home/saad/.local/lib/python3.6/site-packages/sklearn/model_selection/_split.py:672: UserWarning: The least populated class in y has only 1 members, which is less than n_splits=3.\n",
      "  % (min_groups, self.n_splits)), UserWarning)\n",
      "/home/saad/.local/lib/python3.6/site-packages/sklearn/utils/validation.py:71: FutureWarning: Pass labels=['ham', 'spam'] as keyword args. From version 0.25 passing these as positional arguments will result in an error\n",
      "  FutureWarning)\n"
     ]
    },
    {
     "name": "stdout",
     "output_type": "stream",
     "text": [
      "[[4780   55]\n",
      " [  51  784]]\n",
      "True\n"
     ]
    }
   ],
   "source": [
    "print(tis_spam(\"This is to inform you on the release of the EL-GORDO SWEEPSTAKE LOTTERY PROGRAM held on the 29th OF APRIL 2005. Your name is attached to ticket number 025-11-464-992-750 with serial number 2113-05 drew the lucky numbers 13-15-16-21-34-36 which consequently won the lottery in the 3rd category.\"))"
   ]
  },
  {
   "cell_type": "code",
   "execution_count": null,
   "metadata": {},
   "outputs": [],
   "source": []
  }
 ],
 "metadata": {
  "kernelspec": {
   "display_name": "Python 3",
   "language": "python",
   "name": "python3"
  },
  "language_info": {
   "codemirror_mode": {
    "name": "ipython",
    "version": 3
   },
   "file_extension": ".py",
   "mimetype": "text/x-python",
   "name": "python",
   "nbconvert_exporter": "python",
   "pygments_lexer": "ipython3",
   "version": "3.6.9"
  }
 },
 "nbformat": 4,
 "nbformat_minor": 4
}
