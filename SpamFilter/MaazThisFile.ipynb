{
 "cells": [
  {
   "cell_type": "code",
   "execution_count": 2,
   "metadata": {},
   "outputs": [],
   "source": [
    "import numpy as np\n",
    "import pandas as pd\n",
    "import sklearn\n",
    "from sklearn.feature_extraction import text  \n",
    "from sklearn.model_selection import train_test_split\n",
    "from sklearn.naive_bayes import MultinomialNB\n",
    "import sqlite3\n",
    "cnx = sqlite3.connect('db.sqlite3')\n",
    "\n",
    "\n",
    "\n",
    "def is_spam(EmailText):\n",
    "   \n",
    "    df = pd.read_sql_query(\"SELECT * FROM application_data_set\",cnx)\n",
    "    \n",
    "    train_set, test_set = train_test_split(df, test_size=0.2, random_state=42)\n",
    "    X_train = train_set['EmailText']\n",
    "    Y_train = train_set['Label']\n",
    "    X_test = test_set['EmailText']\n",
    "    Y_test = test_set['Label']\n",
    "    \n",
    "    \n",
    "    vectorizer = text.CountVectorizer(stop_words=\"english\")\n",
    "    counts = vectorizer.fit_transform(X_train.values)\n",
    "    spam_nb = MultinomialNB()\n",
    "    spam_nb.fit(counts,Y_train.values)\n",
    "    \n",
    "    test_vect = vectorizer.transform(np.array([EmailText]))\n",
    "    predict_test_vect = spam_nb.predict(test_vect)\n",
    "    \n",
    "    \n",
    "    new_row = {'Label':predict_test_vect[0],'EmailText':EmailText,'id' :df.shape[0]+1}\n",
    "    df = df.append(new_row,ignore_index=True)\n",
    "    df.to_sql(name='application_data_set',con=cnx,if_exists = 'replace',index=False)\n",
    "    \n",
    "    return predict_test_vect[0] == 'spam'\n"
   ]
  },
  {
   "cell_type": "code",
   "execution_count": null,
   "metadata": {},
   "outputs": [],
   "source": [
    "print(is_spam('Im really sorry, it wont happen again'))"
   ]
  }
 ],
 "metadata": {
  "kernelspec": {
   "display_name": "Python 3",
   "language": "python",
   "name": "python3"
  },
  "language_info": {
   "codemirror_mode": {
    "name": "ipython",
    "version": 3
   },
   "file_extension": ".py",
   "mimetype": "text/x-python",
   "name": "python",
   "nbconvert_exporter": "python",
   "pygments_lexer": "ipython3",
   "version": "3.6.9"
  }
 },
 "nbformat": 4,
 "nbformat_minor": 4
}
