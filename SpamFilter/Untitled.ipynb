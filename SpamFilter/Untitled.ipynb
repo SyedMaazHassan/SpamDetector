{
 "cells": [
  {
   "cell_type": "code",
   "execution_count": null,
   "metadata": {},
   "outputs": [],
   "source": [
    "import numpy as np\n",
    "import pandas as pd\n",
    "import sklearn\n",
    "from sklearn.feature_extraction import text  \n",
    "from sklearn.model_selection import train_test_split\n",
    "from sklearn.naive_bayes import MultinomialNB\n",
    "import sqlite3\n",
    "cnx = sqlite3.connect('db.sqlite3')\n",
    "cursor = cnx.cursor()\n",
    "\n",
    "\n",
    "df = pd.read_sql_query(\"SELECT * FROM application_data_set\",cnx)\n",
    "\n",
    "\n",
    "\n",
    "\n",
    "#df = df.drop(0, axis=0)\n",
    "#df['id']=df['id'] - 1\n",
    "\n",
    "def build_train_test():\n",
    "    \n",
    "    # Create your connection.\n",
    "    \n",
    "    #data = pd.read_csv('spam.csv') \n",
    "    #data = data[['Label','EmailText']]\n",
    "    #data.dropna(axis='index',how='any',inplace=True)\n",
    "    \n",
    "    train_set, test_set = train_test_split(df, test_size=0.2, random_state=42)\n",
    "\n",
    "    return train_set['EmailText'],train_set['Label'],test_set['EmailText'],test_set['Label']"
   ]
  },
  {
   "cell_type": "code",
   "execution_count": null,
   "metadata": {},
   "outputs": [],
   "source": [
    "\n",
    "X_train,Y_train,X_test,Y_test = build_train_test()\n",
    "vectorizer = text.CountVectorizer(stop_words=\"english\")\n",
    "counts = vectorizer.fit_transform(X_train.values)\n",
    "spam_nb = MultinomialNB()\n",
    "spam_nb.fit(counts,Y_train.values)"
   ]
  },
  {
   "cell_type": "code",
   "execution_count": null,
   "metadata": {},
   "outputs": [],
   "source": [
    "def model_accuracy():\n",
    "    examples = vectorizer.transform(X_test.values)\n",
    "    predicted = spam_nb.predict(examples)\n",
    "    prediction_bool = pd.Series(predicted==Y_test.values)\n",
    "    true_count = prediction_bool[prediction_bool==True].count()\n",
    "    false_count = prediction_bool[prediction_bool==False].count()\n",
    "    print((100*true_count)/(true_count+false_count))"
   ]
  },
  {
   "cell_type": "code",
   "execution_count": null,
   "metadata": {},
   "outputs": [],
   "source": [
    "def test_model(EmailText):\n",
    "    test_vect = vectorizer.transform(np.array([EmailText]))\n",
    "    predict_test_vect = spam_nb.predict(test_vect)\n",
    "    #print(predict_test_vect[0])\n",
    "    #return predict_test_vect[0]\n",
    "    global df\n",
    "    \n",
    "    new_row = {'Label':predict_test_vect[0],'EmailText':EmailText,'id' :df.shape[0]+1}\n",
    "    df = df.append(new_row,ignore_index=True)\n",
    "    df.to_sql(name='application_data_set',con=cnx,if_exists = 'replace',index=False)\n",
    "    return predict_test_vect[0] == 'spam'"
   ]
  },
  {
   "cell_type": "code",
   "execution_count": null,
   "metadata": {},
   "outputs": [],
   "source": [
    "print(test_model('Sale Sale Sale Get 40% off Now'))"
   ]
  }
 ],
 "metadata": {
  "kernelspec": {
   "display_name": "Python 3",
   "language": "python",
   "name": "python3"
  },
  "language_info": {
   "codemirror_mode": {
    "name": "ipython",
    "version": 3
   },
   "file_extension": ".py",
   "mimetype": "text/x-python",
   "name": "python",
   "nbconvert_exporter": "python",
   "pygments_lexer": "ipython3",
   "version": "3.6.9"
  }
 },
 "nbformat": 4,
 "nbformat_minor": 4
}
